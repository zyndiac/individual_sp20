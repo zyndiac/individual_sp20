{
 "cells": [
  {
   "cell_type": "markdown",
   "metadata": {},
   "source": [
    "# OVERVIEW\n",
    "The goal of this project is to determine a pattern, if any, that exists among the restaurants that have **repeated** health violations. Would this pattern occur across a specific geolocation? Utilizing the provided datasets, I was able to find a quantifiable, positively correlated connection between variables `% of families below poverty line`, `% security income`, and `% repeated violations`. Particularly, there is a strong correlation between `% of families below poverty line` & `% security income`."
   ]
  },
  {
   "cell_type": "markdown",
   "metadata": {},
   "source": [
    "# NAME & ID\n",
    "Name: Cyndia Zhou\n",
    "\n",
    "ID: A15094887"
   ]
  },
  {
   "cell_type": "markdown",
   "metadata": {},
   "source": [
    "# RESEARCH QUESTION\n",
    "Is there a correlation between repeat health violations and the demographic information for their respective zip codes? "
   ]
  },
  {
   "cell_type": "markdown",
   "metadata": {},
   "source": [
    "# BACKGROUND & PRIOR WORK\n",
    "\n",
    "According to Tom Knapp from \"Lancaster Online\", restaurants, even repeat violators, are closed for failing state inspections. This is a terrifying thought! However, according to Shannon Powers, the deputy communications for the Pennsylvania Department of Agriculture, says that \"The department only has legal authority to shut down a restaurant when there is an imminent threat to human health\". Additionally, the violations are recorded at the time of inspection but are often corrected before the inspector leaves the facility. This is a terrifying sentiment for restaurant goers, but is there another factor that can affect these repeat violations? For example, cjonline.com reports that repeat health code violations can lead to fines, which seems to imply that \"poorer\" locations may struggle more with preventing repeat health violations.\n",
    "\n",
    "Sources: \"https://lancasteronline.com/news/local/restaurants-even-repeat-violators-are-rarely-closed-for-failing-state-inspections-why-we-the-people/article_5e392808-01e8-11e8-b0fe-6b15dfa1e6ff.html\", \"https://www.cjonline.com/article/20120617/NEWS/306179937\""
   ]
  },
  {
   "cell_type": "markdown",
   "metadata": {},
   "source": [
    "# HYPOTHESIS\n",
    "The alternative hypothesis to the proposed research question is that there will be a strong, positive correlation between repeat health violations in restaurants and their zip codes, dude to their respective demographic information. The null hypothesis is that there is no correlation between these two variables."
   ]
  },
  {
   "cell_type": "markdown",
   "metadata": {},
   "source": [
    "# DATASET(S)\n",
    "From the datasets provided to us on Canvas, I used `inspections.csv`,`restaurants.csv`,`violations.csv`, and `zipcodes.csv`."
   ]
  },
  {
   "cell_type": "code",
   "execution_count": null,
   "metadata": {},
   "outputs": [],
   "source": [
    "df_inspect = pd.read_csv('data/inspections.csv')\n",
    "df_rest = pd.read_csv('data/restaurants.csv')\n",
    "df_viol = pd.read_csv('data/violations.csv')\n",
    "df_zippy = pd.read_csv('data/zipcodes.csv')"
   ]
  },
  {
   "cell_type": "markdown",
   "metadata": {},
   "source": [
    "# SETUP\n",
    "<font color=#949494>\n",
    "\n",
    "### packages & relevant data\n",
    "</font>"
   ]
  },
  {
   "cell_type": "code",
   "execution_count": 1,
   "metadata": {},
   "outputs": [],
   "source": [
    "%matplotlib inline\n",
    "\n",
    "import numpy as np\n",
    "import pandas as pd\n",
    "import matplotlib.pyplot as plt"
   ]
  },
  {
   "cell_type": "markdown",
   "metadata": {},
   "source": [
    "# DATA CLEANING\n",
    "<font color=#949494>\n",
    "\n",
    "### part one: narrowing down which restaurants have repeat health violations\n",
    "</font>\n",
    "\n",
    "I decided to cross-reference data from `df_rest` and `df_viol` by first merging the two dataframes together. Then, I cleaned up the data by dropping all NaN and duplicate values."
   ]
  },
  {
   "cell_type": "code",
   "execution_count": 2,
   "metadata": {},
   "outputs": [],
   "source": [
    "df_viol = df_viol[['hsisid','violationtype']]\n",
    "df_rest = df_rest[['hsisid','name','postalcode']]\n",
    "df_restInViol = pd.merge(df_rest, df_viol,on='hsisid')"
   ]
  },
  {
   "cell_type": "code",
   "execution_count": 3,
   "metadata": {},
   "outputs": [],
   "source": [
    "df_restInViol = df_restInViol.dropna()"
   ]
  },
  {
   "cell_type": "code",
   "execution_count": 4,
   "metadata": {},
   "outputs": [],
   "source": [
    "df_restInViol.drop_duplicates(subset ='hsisid', keep ='first', inplace = True)\n"
   ]
  },
  {
   "cell_type": "markdown",
   "metadata": {},
   "source": [
    "Because we are focusing on **repeated** health violations, I next dropped all of the rows that did not contain a repeated violation type & reset the index."
   ]
  },
  {
   "cell_type": "code",
   "execution_count": 5,
   "metadata": {},
   "outputs": [],
   "source": [
    "df_restInViol = df_restInViol[df_restInViol['violationtype'] == 'R']"
   ]
  },
  {
   "cell_type": "code",
   "execution_count": 6,
   "metadata": {},
   "outputs": [],
   "source": [
    "df_restInViol = df_restInViol.reset_index(drop=True)"
   ]
  },
  {
   "cell_type": "markdown",
   "metadata": {},
   "source": [
    "Noticing that certain zip codes have an extension, I then standardized it to show only the first five digits."
   ]
  },
  {
   "cell_type": "code",
   "execution_count": 7,
   "metadata": {},
   "outputs": [],
   "source": [
    "def standardize_zippy(string):\n",
    "    return string[:5]"
   ]
  },
  {
   "cell_type": "code",
   "execution_count": 8,
   "metadata": {},
   "outputs": [],
   "source": [
    "df_restInViol['postalcode'] = df_restInViol['postalcode'].apply(standardize_zippy)\n"
   ]
  },
  {
   "cell_type": "markdown",
   "metadata": {},
   "source": [
    "After, I renamed each column for further clarity."
   ]
  },
  {
   "cell_type": "code",
   "execution_count": 9,
   "metadata": {},
   "outputs": [],
   "source": [
    "df_restInViol = df_restInViol[['name','postalcode','violationtype']]\n"
   ]
  },
  {
   "cell_type": "markdown",
   "metadata": {},
   "source": [
    "Let's look through the `postalcode` column to see which zip codes made the repeat-health-violations list."
   ]
  },
  {
   "cell_type": "code",
   "execution_count": 10,
   "metadata": {},
   "outputs": [
    {
     "data": {
      "text/plain": [
       "array(['27616', '27597', '27609', '27513', '27605', '27526', '27613',\n",
       "       '27502', '27612', '28277', '27607', '27529', '27511', '27571',\n",
       "       '27610', '27601', '27587', '27604', '27615', '27579', '27560',\n",
       "       '27603', '27518', '27617', '27614', '27608', '27606', '27695',\n",
       "       '27519', '27623', '27545', '27539', '27602', '27512', '27540'],\n",
       "      dtype=object)"
      ]
     },
     "execution_count": 10,
     "metadata": {},
     "output_type": "execute_result"
    }
   ],
   "source": [
    "df_restInViol['postalcode'].unique()"
   ]
  },
  {
   "cell_type": "markdown",
   "metadata": {},
   "source": [
    "# DATA ANALYSIS\n",
    "\n",
    "<font color=#949494>\n",
    "\n",
    "### step one: getting a sense of how many restaurants have repeat health violations\n",
    "</font>\n",
    "\n",
    "To better visualize the frequency of restaurants with repeat health violations, I started by graphing a histogram."
   ]
  },
  {
   "cell_type": "code",
   "execution_count": 11,
   "metadata": {},
   "outputs": [
    {
     "data": {
      "image/png": "[encoded data removed]",
      "text/plain": [
       "<Figure size 432x288 with 1 Axes>"
      ]
     },
     "metadata": {
      "needs_background": "light"
     },
     "output_type": "display_data"
    }
   ],
   "source": [
    "restViolZip = plt.hist(df_restInViol['postalcode'],bins=25);\n",
    "restViolZip = plt.gcf()\n"
   ]
  },
  {
   "cell_type": "markdown",
   "metadata": {},
   "source": [
    "The first thing you may notice is that this graph illustrates an extreme number of restaurants at once specific location. Let's look into why this is – should we be warning the CDC?"
   ]
  },
  {
   "cell_type": "code",
   "execution_count": 12,
   "metadata": {},
   "outputs": [
    {
     "data": {
      "text/plain": [
       "0    27511\n",
       "dtype: object"
      ]
     },
     "execution_count": 12,
     "metadata": {},
     "output_type": "execute_result"
    }
   ],
   "source": [
    "df_restInViol['postalcode'].mode()"
   ]
  },
  {
   "cell_type": "markdown",
   "metadata": {},
   "source": [
    "# DATA ANALYSIS\n",
    "\n",
    "<font color=#949494>\n",
    "\n",
    "### step two: investigating zip code 27511\n",
    "</font>\n",
    "\n",
    "It's odd that one specific location has an abnormally high amount of health code violations – almost *double* the second-highest health violation rate! Let's create a new dataframe with this data to further investigate."
   ]
  },
  {
   "cell_type": "code",
   "execution_count": 13,
   "metadata": {},
   "outputs": [
    {
     "data": {
      "text/html": [
       "<div>\n",
       "<style scoped>\n",
       "    .dataframe tbody tr th:only-of-type {\n",
       "        vertical-align: middle;\n",
       "    }\n",
       "\n",
       "    .dataframe tbody tr th {\n",
       "        vertical-align: top;\n",
       "    }\n",
       "\n",
       "    .dataframe thead th {\n",
       "        text-align: right;\n",
       "    }\n",
       "</style>\n",
       "<table border=\"1\" class=\"dataframe\">\n",
       "  <thead>\n",
       "    <tr style=\"text-align: right;\">\n",
       "      <th></th>\n",
       "      <th>name</th>\n",
       "      <th>postalcode</th>\n",
       "      <th>violationtype</th>\n",
       "    </tr>\n",
       "  </thead>\n",
       "  <tbody>\n",
       "    <tr>\n",
       "      <th>0</th>\n",
       "      <td>Biryani House</td>\n",
       "      <td>27511</td>\n",
       "      <td>R</td>\n",
       "    </tr>\n",
       "    <tr>\n",
       "      <th>1</th>\n",
       "      <td>New Super Grocery &amp;amp; Fresh Halal Meat</td>\n",
       "      <td>27511</td>\n",
       "      <td>R</td>\n",
       "    </tr>\n",
       "    <tr>\n",
       "      <th>2</th>\n",
       "      <td>Little Caesars #1509</td>\n",
       "      <td>27511</td>\n",
       "      <td>R</td>\n",
       "    </tr>\n",
       "    <tr>\n",
       "      <th>3</th>\n",
       "      <td>Dickey`s Barbecue Pit #127</td>\n",
       "      <td>27511</td>\n",
       "      <td>R</td>\n",
       "    </tr>\n",
       "    <tr>\n",
       "      <th>4</th>\n",
       "      <td>El Cuscatleco Restaurant</td>\n",
       "      <td>27511</td>\n",
       "      <td>R</td>\n",
       "    </tr>\n",
       "    <tr>\n",
       "      <th>5</th>\n",
       "      <td>Moe`s Southwest Grill #683</td>\n",
       "      <td>27511</td>\n",
       "      <td>R</td>\n",
       "    </tr>\n",
       "    <tr>\n",
       "      <th>6</th>\n",
       "      <td>TOM YUM THAI</td>\n",
       "      <td>27511</td>\n",
       "      <td>R</td>\n",
       "    </tr>\n",
       "    <tr>\n",
       "      <th>7</th>\n",
       "      <td>Little Tokyo</td>\n",
       "      <td>27511</td>\n",
       "      <td>R</td>\n",
       "    </tr>\n",
       "    <tr>\n",
       "      <th>8</th>\n",
       "      <td>Lowes Foods # 162 Meat, Seafood, and Sausages</td>\n",
       "      <td>27511</td>\n",
       "      <td>R</td>\n",
       "    </tr>\n",
       "    <tr>\n",
       "      <th>9</th>\n",
       "      <td>Remington Grill</td>\n",
       "      <td>27511</td>\n",
       "      <td>R</td>\n",
       "    </tr>\n",
       "    <tr>\n",
       "      <th>10</th>\n",
       "      <td>Kabuki Japanese Steak House</td>\n",
       "      <td>27511</td>\n",
       "      <td>R</td>\n",
       "    </tr>\n",
       "    <tr>\n",
       "      <th>11</th>\n",
       "      <td>Barnes And Noble</td>\n",
       "      <td>27511</td>\n",
       "      <td>R</td>\n",
       "    </tr>\n",
       "    <tr>\n",
       "      <th>12</th>\n",
       "      <td>Mac`s Tavern</td>\n",
       "      <td>27511</td>\n",
       "      <td>R</td>\n",
       "    </tr>\n",
       "    <tr>\n",
       "      <th>13</th>\n",
       "      <td>China One</td>\n",
       "      <td>27511</td>\n",
       "      <td>R</td>\n",
       "    </tr>\n",
       "    <tr>\n",
       "      <th>14</th>\n",
       "      <td>Taco Bell #3421</td>\n",
       "      <td>27511</td>\n",
       "      <td>R</td>\n",
       "    </tr>\n",
       "    <tr>\n",
       "      <th>15</th>\n",
       "      <td>PAPA JOHN'S</td>\n",
       "      <td>27511</td>\n",
       "      <td>R</td>\n",
       "    </tr>\n",
       "    <tr>\n",
       "      <th>16</th>\n",
       "      <td>Olive Garden</td>\n",
       "      <td>27511</td>\n",
       "      <td>R</td>\n",
       "    </tr>\n",
       "    <tr>\n",
       "      <th>17</th>\n",
       "      <td>DAIRY QUEEN GRILL &amp;amp; CHILL</td>\n",
       "      <td>27511</td>\n",
       "      <td>R</td>\n",
       "    </tr>\n",
       "    <tr>\n",
       "      <th>18</th>\n",
       "      <td>PITA BON</td>\n",
       "      <td>27511</td>\n",
       "      <td>R</td>\n",
       "    </tr>\n",
       "    <tr>\n",
       "      <th>19</th>\n",
       "      <td>KABAB &amp;amp; GRILL</td>\n",
       "      <td>27511</td>\n",
       "      <td>R</td>\n",
       "    </tr>\n",
       "    <tr>\n",
       "      <th>20</th>\n",
       "      <td>Chick-fil-A #1218</td>\n",
       "      <td>27511</td>\n",
       "      <td>R</td>\n",
       "    </tr>\n",
       "    <tr>\n",
       "      <th>21</th>\n",
       "      <td>Super Wok</td>\n",
       "      <td>27511</td>\n",
       "      <td>R</td>\n",
       "    </tr>\n",
       "    <tr>\n",
       "      <th>22</th>\n",
       "      <td>Harris Teeter #257 Produce</td>\n",
       "      <td>27511</td>\n",
       "      <td>R</td>\n",
       "    </tr>\n",
       "  </tbody>\n",
       "</table>\n",
       "</div>"
      ],
      "text/plain": [
       "                                             name postalcode violationtype\n",
       "0                                   Biryani House      27511             R\n",
       "1        New Super Grocery &amp; Fresh Halal Meat      27511             R\n",
       "2                            Little Caesars #1509      27511             R\n",
       "3                      Dickey`s Barbecue Pit #127      27511             R\n",
       "4                        El Cuscatleco Restaurant      27511             R\n",
       "5                      Moe`s Southwest Grill #683      27511             R\n",
       "6                                    TOM YUM THAI      27511             R\n",
       "7                                    Little Tokyo      27511             R\n",
       "8   Lowes Foods # 162 Meat, Seafood, and Sausages      27511             R\n",
       "9                                 Remington Grill      27511             R\n",
       "10                    Kabuki Japanese Steak House      27511             R\n",
       "11                               Barnes And Noble      27511             R\n",
       "12                                   Mac`s Tavern      27511             R\n",
       "13                                      China One      27511             R\n",
       "14                                Taco Bell #3421      27511             R\n",
       "15                                   PAPA JOHN'S       27511             R\n",
       "16                                   Olive Garden      27511             R\n",
       "17                  DAIRY QUEEN GRILL &amp; CHILL      27511             R\n",
       "18                                       PITA BON      27511             R\n",
       "19                              KABAB &amp; GRILL      27511             R\n",
       "20                              Chick-fil-A #1218      27511             R\n",
       "21                                      Super Wok      27511             R\n",
       "22                     Harris Teeter #257 Produce      27511             R"
      ]
     },
     "execution_count": 13,
     "metadata": {},
     "output_type": "execute_result"
    }
   ],
   "source": [
    "df_violEpicenter = df_restInViol[df_restInViol['postalcode'] == '27511']\n",
    "df_violEpicenter.reset_index(drop=True)"
   ]
  },
  {
   "cell_type": "markdown",
   "metadata": {},
   "source": [
    "It looks like a total of 23 restaurants have repeated violations – but is this number significant? To determine this, we need to look at the total amount of restaurants in the 27511 area."
   ]
  },
  {
   "cell_type": "code",
   "execution_count": 119,
   "metadata": {},
   "outputs": [],
   "source": [
    "df_inspectZip = df_inspect[df_inspect['postalcode'] == '27511']\n",
    "df_inspectZip = df_inspectZip[['name','postalcode','facilitytype']]"
   ]
  },
  {
   "cell_type": "code",
   "execution_count": 120,
   "metadata": {},
   "outputs": [
    {
     "data": {
      "text/html": [
       "<div>\n",
       "<style scoped>\n",
       "    .dataframe tbody tr th:only-of-type {\n",
       "        vertical-align: middle;\n",
       "    }\n",
       "\n",
       "    .dataframe tbody tr th {\n",
       "        vertical-align: top;\n",
       "    }\n",
       "\n",
       "    .dataframe thead th {\n",
       "        text-align: right;\n",
       "    }\n",
       "</style>\n",
       "<table border=\"1\" class=\"dataframe\">\n",
       "  <thead>\n",
       "    <tr style=\"text-align: right;\">\n",
       "      <th></th>\n",
       "      <th>name</th>\n",
       "      <th>postalcode</th>\n",
       "      <th>facilitytype</th>\n",
       "    </tr>\n",
       "  </thead>\n",
       "  <tbody>\n",
       "    <tr>\n",
       "      <th>0</th>\n",
       "      <td>Jordan Oaks</td>\n",
       "      <td>27511</td>\n",
       "      <td>Restaurant</td>\n",
       "    </tr>\n",
       "    <tr>\n",
       "      <th>1</th>\n",
       "      <td>Taqueria Rancho Grande</td>\n",
       "      <td>27511</td>\n",
       "      <td>Restaurant</td>\n",
       "    </tr>\n",
       "    <tr>\n",
       "      <th>2</th>\n",
       "      <td>SUBWAY #36806</td>\n",
       "      <td>27511</td>\n",
       "      <td>Restaurant</td>\n",
       "    </tr>\n",
       "    <tr>\n",
       "      <th>3</th>\n",
       "      <td>STAMMTISCH CAFE</td>\n",
       "      <td>27511</td>\n",
       "      <td>Restaurant</td>\n",
       "    </tr>\n",
       "    <tr>\n",
       "      <th>4</th>\n",
       "      <td>PAPA JOHN'S</td>\n",
       "      <td>27511</td>\n",
       "      <td>Restaurant</td>\n",
       "    </tr>\n",
       "    <tr>\n",
       "      <th>...</th>\n",
       "      <td>...</td>\n",
       "      <td>...</td>\n",
       "      <td>...</td>\n",
       "    </tr>\n",
       "    <tr>\n",
       "      <th>643</th>\n",
       "      <td>STAMMTISCH CAFE</td>\n",
       "      <td>27511</td>\n",
       "      <td>Restaurant</td>\n",
       "    </tr>\n",
       "    <tr>\n",
       "      <th>644</th>\n",
       "      <td>EAST GARDEN</td>\n",
       "      <td>27511</td>\n",
       "      <td>Restaurant</td>\n",
       "    </tr>\n",
       "    <tr>\n",
       "      <th>645</th>\n",
       "      <td>HIMALAYAN NEPALI CUISINE</td>\n",
       "      <td>27511</td>\n",
       "      <td>Restaurant</td>\n",
       "    </tr>\n",
       "    <tr>\n",
       "      <th>646</th>\n",
       "      <td>WALTONWOOD AT CARY DINING</td>\n",
       "      <td>27511</td>\n",
       "      <td>Restaurant</td>\n",
       "    </tr>\n",
       "    <tr>\n",
       "      <th>647</th>\n",
       "      <td>NEWK'S EATERY #1107</td>\n",
       "      <td>27511</td>\n",
       "      <td>Restaurant</td>\n",
       "    </tr>\n",
       "  </tbody>\n",
       "</table>\n",
       "<p>648 rows × 3 columns</p>\n",
       "</div>"
      ],
      "text/plain": [
       "                          name postalcode facilitytype\n",
       "0                  Jordan Oaks      27511   Restaurant\n",
       "1       Taqueria Rancho Grande      27511   Restaurant\n",
       "2                SUBWAY #36806      27511   Restaurant\n",
       "3              STAMMTISCH CAFE      27511   Restaurant\n",
       "4                  PAPA JOHN'S      27511   Restaurant\n",
       "..                         ...        ...          ...\n",
       "643            STAMMTISCH CAFE      27511   Restaurant\n",
       "644                EAST GARDEN      27511   Restaurant\n",
       "645   HIMALAYAN NEPALI CUISINE      27511   Restaurant\n",
       "646  WALTONWOOD AT CARY DINING      27511   Restaurant\n",
       "647        NEWK'S EATERY #1107      27511   Restaurant\n",
       "\n",
       "[648 rows x 3 columns]"
      ]
     },
     "execution_count": 120,
     "metadata": {},
     "output_type": "execute_result"
    }
   ],
   "source": [
    "df_inspectZip = df_inspectZip[df_inspectZip['facilitytype'] == 'Restaurant']\n",
    "df_inspectZip.reset_index(drop=True)"
   ]
  },
  {
   "cell_type": "code",
   "execution_count": 121,
   "metadata": {},
   "outputs": [
    {
     "data": {
      "text/plain": [
       "3.5493827160493825"
      ]
     },
     "execution_count": 121,
     "metadata": {},
     "output_type": "execute_result"
    }
   ],
   "source": [
    "repeatViolRate = (23/648)*100\n",
    "repeatViolRate"
   ]
  },
  {
   "cell_type": "markdown",
   "metadata": {},
   "source": [
    "Ah ha! Even though the number of restaurants with repeated violations in this area is greater than in others, the rate is only 3.55% with respect to the rest of the restaurants in the 275211. Whew! Glad we put this in perspective."
   ]
  },
  {
   "cell_type": "markdown",
   "metadata": {},
   "source": [
    "# DATA ANALYSIS\n",
    "\n",
    "<font color=#949494>\n",
    "\n",
    "### step three: what about the other restaurants?\n",
    "</font>\n",
    "\n",
    "Let's cross-reference `df_zippy` with `df_restInViol`, the dataset we created in the data cleaning portion, to see a) any overlapping zip codes and b) their respective restaurants' repeated health violation rates."
   ]
  },
  {
   "cell_type": "code",
   "execution_count": 123,
   "metadata": {},
   "outputs": [],
   "source": [
    "df_restInViol.columns = ['name','zip','violationtype']"
   ]
  },
  {
   "cell_type": "markdown",
   "metadata": {},
   "source": [
    "Because `df_zippy`'s 'zip' column values are `int` types, while `df_restInViol`'s 'zip' column are `string` types, we must convert `df_zippy`'s column values into `string` before we can merge the two datasets. Then, we need drop the duplicates and reset the index."
   ]
  },
  {
   "cell_type": "code",
   "execution_count": 22,
   "metadata": {},
   "outputs": [
    {
     "data": {
      "text/plain": [
       "name             object\n",
       "zip              object\n",
       "violationtype    object\n",
       "dtype: object"
      ]
     },
     "execution_count": 22,
     "metadata": {},
     "output_type": "execute_result"
    }
   ],
   "source": [
    "df_restInViol.dtypes"
   ]
  },
  {
   "cell_type": "code",
   "execution_count": 21,
   "metadata": {},
   "outputs": [],
   "source": [
    "df_zippy['zip'] = df_zippy['zip'].astype(str)"
   ]
  },
  {
   "cell_type": "code",
   "execution_count": 23,
   "metadata": {},
   "outputs": [],
   "source": [
    "df_zipInViol = pd.merge(df_zippy, df_restInViol, on='zip')"
   ]
  },
  {
   "cell_type": "code",
   "execution_count": 24,
   "metadata": {},
   "outputs": [],
   "source": [
    "df_zipInViol.drop_duplicates(subset ='zip', keep ='first', inplace = True)"
   ]
  },
  {
   "cell_type": "code",
   "execution_count": 25,
   "metadata": {},
   "outputs": [],
   "source": [
    "df_zipInViol = df_zipInViol.reset_index(drop=True)"
   ]
  },
  {
   "cell_type": "markdown",
   "metadata": {},
   "source": [
    "# DATA ANALYSIS\n",
    "\n",
    "<font color=#949494>\n",
    "\n",
    "### step four: time to create our health violation rates\n",
    "</font>\n",
    "\n",
    "Here, I took all 29 postal codes provided in `df_zipInViol`'s 'zip' column to calcuate the ratio of restaurants with repeat health violations to the total number of inspected restaurants within that given zip code."
   ]
  },
  {
   "cell_type": "markdown",
   "metadata": {},
   "source": [
    "<font color=\"#bfbfbf\">\n",
    "    \n",
    "#### postal code 27502\n",
    "</font>"
   ]
  },
  {
   "cell_type": "code",
   "execution_count": 26,
   "metadata": {},
   "outputs": [
    {
     "data": {
      "text/plain": [
       "name            352\n",
       "postalcode      352\n",
       "facilitytype    352\n",
       "dtype: int64"
      ]
     },
     "execution_count": 26,
     "metadata": {},
     "output_type": "execute_result"
    }
   ],
   "source": [
    "df_inspect502 = df_inspect[df_inspect['postalcode'] == '27502']\n",
    "df_inspect502 = df_inspect502[['name','postalcode','facilitytype']]\n",
    "df_inspect502 = df_inspect502[df_inspect502['facilitytype'] == 'Restaurant']\n",
    "df_inspect502.count()\n"
   ]
  },
  {
   "cell_type": "code",
   "execution_count": 27,
   "metadata": {},
   "outputs": [
    {
     "data": {
      "text/plain": [
       "name             4\n",
       "zip              4\n",
       "violationtype    4\n",
       "dtype: int64"
      ]
     },
     "execution_count": 27,
     "metadata": {},
     "output_type": "execute_result"
    }
   ],
   "source": [
    "df_restViol502 = df_restInViol[df_restInViol['zip'] == '27502']\n",
    "df_restViol502.count()\n"
   ]
  },
  {
   "cell_type": "code",
   "execution_count": 28,
   "metadata": {},
   "outputs": [
    {
     "data": {
      "text/plain": [
       "1.1363636363636365"
      ]
     },
     "execution_count": 28,
     "metadata": {},
     "output_type": "execute_result"
    }
   ],
   "source": [
    "df_rate502 = (4/352)*100\n",
    "df_rate502"
   ]
  },
  {
   "cell_type": "markdown",
   "metadata": {},
   "source": [
    "<font color=\"#bfbfbf\">\n",
    "    \n",
    "#### postal code 27511\n",
    "</font>"
   ]
  },
  {
   "cell_type": "code",
   "execution_count": 29,
   "metadata": {},
   "outputs": [
    {
     "data": {
      "text/plain": [
       "3.5493827160493825"
      ]
     },
     "execution_count": 29,
     "metadata": {},
     "output_type": "execute_result"
    }
   ],
   "source": [
    "df_rate511 = repeatViolRate\n",
    "df_rate511"
   ]
  },
  {
   "cell_type": "markdown",
   "metadata": {},
   "source": [
    "<font color=\"#bfbfbf\">\n",
    "    \n",
    "#### postal code 27513\n",
    "</font>\n",
    "\n",
    ">If you remember, I already calculated this rate at the beginning of the analysis."
   ]
  },
  {
   "cell_type": "code",
   "execution_count": 30,
   "metadata": {},
   "outputs": [
    {
     "data": {
      "text/plain": [
       "name            430\n",
       "postalcode      430\n",
       "facilitytype    430\n",
       "dtype: int64"
      ]
     },
     "execution_count": 30,
     "metadata": {},
     "output_type": "execute_result"
    }
   ],
   "source": [
    "df_inspect513 = df_inspect[df_inspect['postalcode'] == '27513']\n",
    "df_inspect513 = df_inspect513[['name','postalcode','facilitytype']]\n",
    "df_inspect513 = df_inspect513[df_inspect513['facilitytype'] == 'Restaurant']\n",
    "df_inspect513.count()\n"
   ]
  },
  {
   "cell_type": "code",
   "execution_count": 31,
   "metadata": {},
   "outputs": [
    {
     "data": {
      "text/plain": [
       "name             16\n",
       "zip              16\n",
       "violationtype    16\n",
       "dtype: int64"
      ]
     },
     "execution_count": 31,
     "metadata": {},
     "output_type": "execute_result"
    }
   ],
   "source": [
    "df_restViol513 = df_restInViol[df_restInViol['zip'] == '27513']\n",
    "df_restViol513.count()\n"
   ]
  },
  {
   "cell_type": "code",
   "execution_count": 32,
   "metadata": {},
   "outputs": [
    {
     "data": {
      "text/plain": [
       "3.7209302325581395"
      ]
     },
     "execution_count": 32,
     "metadata": {},
     "output_type": "execute_result"
    }
   ],
   "source": [
    "df_rate513 = (16/430)*100\n",
    "df_rate513"
   ]
  },
  {
   "cell_type": "markdown",
   "metadata": {},
   "source": [
    "<font color=\"#bfbfbf\">\n",
    "    \n",
    "#### postal code 27518\n",
    "</font>"
   ]
  },
  {
   "cell_type": "code",
   "execution_count": 33,
   "metadata": {
    "scrolled": true
   },
   "outputs": [
    {
     "data": {
      "text/plain": [
       "name            266\n",
       "postalcode      266\n",
       "facilitytype    266\n",
       "dtype: int64"
      ]
     },
     "execution_count": 33,
     "metadata": {},
     "output_type": "execute_result"
    }
   ],
   "source": [
    "df_inspect518 = df_inspect[df_inspect['postalcode'] == '27518']\n",
    "df_inspect518 = df_inspect518[['name','postalcode','facilitytype']]\n",
    "df_inspect518 = df_inspect518[df_inspect518['facilitytype'] == 'Restaurant']\n",
    "df_inspect518.count()\n"
   ]
  },
  {
   "cell_type": "code",
   "execution_count": 34,
   "metadata": {},
   "outputs": [
    {
     "data": {
      "text/plain": [
       "name             1\n",
       "zip              1\n",
       "violationtype    1\n",
       "dtype: int64"
      ]
     },
     "execution_count": 34,
     "metadata": {},
     "output_type": "execute_result"
    }
   ],
   "source": [
    "df_restViol518 = df_restInViol[df_restInViol['zip'] == '27518']\n",
    "df_restViol518.count()\n"
   ]
  },
  {
   "cell_type": "code",
   "execution_count": 35,
   "metadata": {},
   "outputs": [
    {
     "data": {
      "text/plain": [
       "0.37593984962406013"
      ]
     },
     "execution_count": 35,
     "metadata": {},
     "output_type": "execute_result"
    }
   ],
   "source": [
    "df_rate518 = (1/266)*100\n",
    "df_rate518"
   ]
  },
  {
   "cell_type": "markdown",
   "metadata": {},
   "source": [
    "<font color=\"#bfbfbf\">\n",
    "    \n",
    "#### postal code 27519\n",
    "</font>"
   ]
  },
  {
   "cell_type": "code",
   "execution_count": 36,
   "metadata": {},
   "outputs": [
    {
     "data": {
      "text/plain": [
       "name            202\n",
       "postalcode      202\n",
       "facilitytype    202\n",
       "dtype: int64"
      ]
     },
     "execution_count": 36,
     "metadata": {},
     "output_type": "execute_result"
    }
   ],
   "source": [
    "df_inspect519 = df_inspect[df_inspect['postalcode'] == '27519']\n",
    "df_inspect519 = df_inspect519[['name','postalcode','facilitytype']]\n",
    "df_inspect519 = df_inspect519[df_inspect519['facilitytype'] == 'Restaurant']\n",
    "df_inspect519.count()\n"
   ]
  },
  {
   "cell_type": "code",
   "execution_count": 37,
   "metadata": {},
   "outputs": [
    {
     "data": {
      "text/plain": [
       "name             3\n",
       "zip              3\n",
       "violationtype    3\n",
       "dtype: int64"
      ]
     },
     "execution_count": 37,
     "metadata": {},
     "output_type": "execute_result"
    }
   ],
   "source": [
    "df_restViol519 = df_restInViol[df_restInViol['zip'] == '27519']\n",
    "df_restViol519.count()\n"
   ]
  },
  {
   "cell_type": "code",
   "execution_count": 38,
   "metadata": {},
   "outputs": [
    {
     "data": {
      "text/plain": [
       "1.4851485148514851"
      ]
     },
     "execution_count": 38,
     "metadata": {},
     "output_type": "execute_result"
    }
   ],
   "source": [
    "df_rate519 = (3/202)*100\n",
    "df_rate519"
   ]
  },
  {
   "cell_type": "markdown",
   "metadata": {},
   "source": [
    "<font color=\"#bfbfbf\">\n",
    "    \n",
    "#### postal code 27526\n",
    "</font>"
   ]
  },
  {
   "cell_type": "code",
   "execution_count": 39,
   "metadata": {},
   "outputs": [
    {
     "data": {
      "text/plain": [
       "name            368\n",
       "postalcode      368\n",
       "facilitytype    368\n",
       "dtype: int64"
      ]
     },
     "execution_count": 39,
     "metadata": {},
     "output_type": "execute_result"
    }
   ],
   "source": [
    "df_inspect526 = df_inspect[df_inspect['postalcode'] == '27526']\n",
    "df_inspect526 = df_inspect526[['name','postalcode','facilitytype']]\n",
    "df_inspect526 = df_inspect526[df_inspect526['facilitytype'] == 'Restaurant']\n",
    "df_inspect526.count()\n"
   ]
  },
  {
   "cell_type": "code",
   "execution_count": 40,
   "metadata": {},
   "outputs": [
    {
     "data": {
      "text/plain": [
       "name             4\n",
       "zip              4\n",
       "violationtype    4\n",
       "dtype: int64"
      ]
     },
     "execution_count": 40,
     "metadata": {},
     "output_type": "execute_result"
    }
   ],
   "source": [
    "df_restViol526 = df_restInViol[df_restInViol['zip'] == '27526']\n",
    "df_restViol526.count()\n"
   ]
  },
  {
   "cell_type": "code",
   "execution_count": 41,
   "metadata": {},
   "outputs": [
    {
     "data": {
      "text/plain": [
       "1.0869565217391304"
      ]
     },
     "execution_count": 41,
     "metadata": {},
     "output_type": "execute_result"
    }
   ],
   "source": [
    "df_rate526 = (4/368)*100\n",
    "df_rate526"
   ]
  },
  {
   "cell_type": "markdown",
   "metadata": {},
   "source": [
    "<font color=\"#bfbfbf\">\n",
    "    \n",
    "#### postal code 27529\n",
    "</font>"
   ]
  },
  {
   "cell_type": "code",
   "execution_count": 42,
   "metadata": {},
   "outputs": [
    {
     "data": {
      "text/plain": [
       "name            287\n",
       "postalcode      287\n",
       "facilitytype    287\n",
       "dtype: int64"
      ]
     },
     "execution_count": 42,
     "metadata": {},
     "output_type": "execute_result"
    }
   ],
   "source": [
    "df_inspect529 = df_inspect[df_inspect['postalcode'] == '27529']\n",
    "df_inspect529 = df_inspect529[['name','postalcode','facilitytype']]\n",
    "df_inspect529 = df_inspect529[df_inspect529['facilitytype'] == 'Restaurant']\n",
    "df_inspect529.count()\n"
   ]
  },
  {
   "cell_type": "code",
   "execution_count": 43,
   "metadata": {},
   "outputs": [
    {
     "data": {
      "text/plain": [
       "name             21\n",
       "zip              21\n",
       "violationtype    21\n",
       "dtype: int64"
      ]
     },
     "execution_count": 43,
     "metadata": {},
     "output_type": "execute_result"
    }
   ],
   "source": [
    "df_restViol529 = df_restInViol[df_restInViol['zip'] == '27529']\n",
    "df_restViol529.count()\n"
   ]
  },
  {
   "cell_type": "code",
   "execution_count": 44,
   "metadata": {},
   "outputs": [
    {
     "data": {
      "text/plain": [
       "7.317073170731707"
      ]
     },
     "execution_count": 44,
     "metadata": {},
     "output_type": "execute_result"
    }
   ],
   "source": [
    "df_rate529 = (21/287)*100\n",
    "df_rate529"
   ]
  },
  {
   "cell_type": "markdown",
   "metadata": {},
   "source": [
    "<font color=\"#bfbfbf\">\n",
    "    \n",
    "#### postal code 27539\n",
    "</font>"
   ]
  },
  {
   "cell_type": "code",
   "execution_count": 45,
   "metadata": {},
   "outputs": [
    {
     "data": {
      "text/plain": [
       "name            54\n",
       "postalcode      54\n",
       "facilitytype    54\n",
       "dtype: int64"
      ]
     },
     "execution_count": 45,
     "metadata": {},
     "output_type": "execute_result"
    }
   ],
   "source": [
    "df_inspect539 = df_inspect[df_inspect['postalcode'] == '27539']\n",
    "df_inspect539 = df_inspect539[['name','postalcode','facilitytype']]\n",
    "df_inspect539 = df_inspect539[df_inspect539['facilitytype'] == 'Restaurant']\n",
    "df_inspect539.count()\n"
   ]
  },
  {
   "cell_type": "code",
   "execution_count": 46,
   "metadata": {},
   "outputs": [
    {
     "data": {
      "text/plain": [
       "name             1\n",
       "zip              1\n",
       "violationtype    1\n",
       "dtype: int64"
      ]
     },
     "execution_count": 46,
     "metadata": {},
     "output_type": "execute_result"
    }
   ],
   "source": [
    "df_restViol539 = df_restInViol[df_restInViol['zip'] == '27539']\n",
    "df_restViol539.count()\n"
   ]
  },
  {
   "cell_type": "code",
   "execution_count": 47,
   "metadata": {},
   "outputs": [
    {
     "data": {
      "text/plain": [
       "1.8518518518518516"
      ]
     },
     "execution_count": 47,
     "metadata": {},
     "output_type": "execute_result"
    }
   ],
   "source": [
    "df_rate539 = (1/54)*100\n",
    "df_rate539"
   ]
  },
  {
   "cell_type": "markdown",
   "metadata": {},
   "source": [
    "<font color=\"#bfbfbf\">\n",
    "    \n",
    "#### postal code 27540\n",
    "</font>"
   ]
  },
  {
   "cell_type": "code",
   "execution_count": 48,
   "metadata": {},
   "outputs": [
    {
     "data": {
      "text/plain": [
       "name            258\n",
       "postalcode      258\n",
       "facilitytype    258\n",
       "dtype: int64"
      ]
     },
     "execution_count": 48,
     "metadata": {},
     "output_type": "execute_result"
    }
   ],
   "source": [
    "df_inspect540 = df_inspect[df_inspect['postalcode'] == '27540']\n",
    "df_inspect540 = df_inspect540[['name','postalcode','facilitytype']]\n",
    "df_inspect540 = df_inspect540[df_inspect540['facilitytype'] == 'Restaurant']\n",
    "df_inspect540.count()\n"
   ]
  },
  {
   "cell_type": "code",
   "execution_count": 49,
   "metadata": {},
   "outputs": [
    {
     "data": {
      "text/plain": [
       "name             2\n",
       "zip              2\n",
       "violationtype    2\n",
       "dtype: int64"
      ]
     },
     "execution_count": 49,
     "metadata": {},
     "output_type": "execute_result"
    }
   ],
   "source": [
    "df_restViol540 = df_restInViol[df_restInViol['zip'] == '27540']\n",
    "df_restViol540.count()\n"
   ]
  },
  {
   "cell_type": "code",
   "execution_count": 50,
   "metadata": {},
   "outputs": [
    {
     "data": {
      "text/plain": [
       "0.7751937984496124"
      ]
     },
     "execution_count": 50,
     "metadata": {},
     "output_type": "execute_result"
    }
   ],
   "source": [
    "df_rate540 = (2/258)*100\n",
    "df_rate540"
   ]
  },
  {
   "cell_type": "markdown",
   "metadata": {},
   "source": [
    "<font color=\"#bfbfbf\">\n",
    "    \n",
    "#### postal code 27545\n",
    "</font>"
   ]
  },
  {
   "cell_type": "code",
   "execution_count": 51,
   "metadata": {},
   "outputs": [
    {
     "data": {
      "text/plain": [
       "name            247\n",
       "postalcode      247\n",
       "facilitytype    247\n",
       "dtype: int64"
      ]
     },
     "execution_count": 51,
     "metadata": {},
     "output_type": "execute_result"
    }
   ],
   "source": [
    "df_inspect545 = df_inspect[df_inspect['postalcode'] == '27545']\n",
    "df_inspect545 = df_inspect545[['name','postalcode','facilitytype']]\n",
    "df_inspect545 = df_inspect545[df_inspect545['facilitytype'] == 'Restaurant']\n",
    "df_inspect545.count()\n"
   ]
  },
  {
   "cell_type": "code",
   "execution_count": 52,
   "metadata": {},
   "outputs": [
    {
     "data": {
      "text/plain": [
       "name             3\n",
       "zip              3\n",
       "violationtype    3\n",
       "dtype: int64"
      ]
     },
     "execution_count": 52,
     "metadata": {},
     "output_type": "execute_result"
    }
   ],
   "source": [
    "df_restViol545 = df_restInViol[df_restInViol['zip'] == '27545']\n",
    "df_restViol545.count()\n"
   ]
  },
  {
   "cell_type": "code",
   "execution_count": 53,
   "metadata": {},
   "outputs": [
    {
     "data": {
      "text/plain": [
       "1.214574898785425"
      ]
     },
     "execution_count": 53,
     "metadata": {},
     "output_type": "execute_result"
    }
   ],
   "source": [
    "df_rate545 = (3/247)*100\n",
    "df_rate545"
   ]
  },
  {
   "cell_type": "markdown",
   "metadata": {},
   "source": [
    "<font color=\"#bfbfbf\">\n",
    "    \n",
    "#### postal code 27560\n",
    "</font>"
   ]
  },
  {
   "cell_type": "code",
   "execution_count": 54,
   "metadata": {},
   "outputs": [
    {
     "data": {
      "text/plain": [
       "name            513\n",
       "postalcode      513\n",
       "facilitytype    513\n",
       "dtype: int64"
      ]
     },
     "execution_count": 54,
     "metadata": {},
     "output_type": "execute_result"
    }
   ],
   "source": [
    "df_inspect560 = df_inspect[df_inspect['postalcode'] == '27560']\n",
    "df_inspect560 = df_inspect560[['name','postalcode','facilitytype']]\n",
    "df_inspect560 = df_inspect560[df_inspect560['facilitytype'] == 'Restaurant']\n",
    "df_inspect560.count()\n"
   ]
  },
  {
   "cell_type": "code",
   "execution_count": 55,
   "metadata": {},
   "outputs": [
    {
     "data": {
      "text/plain": [
       "name             12\n",
       "zip              12\n",
       "violationtype    12\n",
       "dtype: int64"
      ]
     },
     "execution_count": 55,
     "metadata": {},
     "output_type": "execute_result"
    }
   ],
   "source": [
    "df_restViol560 = df_restInViol[df_restInViol['zip'] == '27560']\n",
    "df_restViol560.count()\n"
   ]
  },
  {
   "cell_type": "code",
   "execution_count": 56,
   "metadata": {},
   "outputs": [
    {
     "data": {
      "text/plain": [
       "2.3391812865497075"
      ]
     },
     "execution_count": 56,
     "metadata": {},
     "output_type": "execute_result"
    }
   ],
   "source": [
    "df_rate560 = (12/513)*100\n",
    "df_rate560"
   ]
  },
  {
   "cell_type": "markdown",
   "metadata": {},
   "source": [
    "<font color=\"#bfbfbf\">\n",
    "    \n",
    "#### postal code 27571\n",
    "</font>"
   ]
  },
  {
   "cell_type": "code",
   "execution_count": 57,
   "metadata": {},
   "outputs": [
    {
     "data": {
      "text/plain": [
       "name            48\n",
       "postalcode      48\n",
       "facilitytype    48\n",
       "dtype: int64"
      ]
     },
     "execution_count": 57,
     "metadata": {},
     "output_type": "execute_result"
    }
   ],
   "source": [
    "df_inspect571 = df_inspect[df_inspect['postalcode'] == '27571']\n",
    "df_inspect571 = df_inspect571[['name','postalcode','facilitytype']]\n",
    "df_inspect571 = df_inspect571[df_inspect571['facilitytype'] == 'Restaurant']\n",
    "df_inspect571.count()\n"
   ]
  },
  {
   "cell_type": "code",
   "execution_count": 58,
   "metadata": {},
   "outputs": [
    {
     "data": {
      "text/plain": [
       "name             2\n",
       "zip              2\n",
       "violationtype    2\n",
       "dtype: int64"
      ]
     },
     "execution_count": 58,
     "metadata": {},
     "output_type": "execute_result"
    }
   ],
   "source": [
    "df_restViol571 = df_restInViol[df_restInViol['zip'] == '27571']\n",
    "df_restViol571.count()\n"
   ]
  },
  {
   "cell_type": "code",
   "execution_count": 59,
   "metadata": {},
   "outputs": [
    {
     "data": {
      "text/plain": [
       "4.166666666666666"
      ]
     },
     "execution_count": 59,
     "metadata": {},
     "output_type": "execute_result"
    }
   ],
   "source": [
    "df_rate571 = (2/48)*100\n",
    "df_rate571"
   ]
  },
  {
   "cell_type": "markdown",
   "metadata": {},
   "source": [
    "<font color=\"#bfbfbf\">\n",
    "    \n",
    "#### postal code 27587\n",
    "</font>"
   ]
  },
  {
   "cell_type": "code",
   "execution_count": 60,
   "metadata": {},
   "outputs": [
    {
     "data": {
      "text/plain": [
       "name            479\n",
       "postalcode      479\n",
       "facilitytype    479\n",
       "dtype: int64"
      ]
     },
     "execution_count": 60,
     "metadata": {},
     "output_type": "execute_result"
    }
   ],
   "source": [
    "df_inspect587 = df_inspect[df_inspect['postalcode'] == '27587']\n",
    "df_inspect587 = df_inspect587[['name','postalcode','facilitytype']]\n",
    "df_inspect587 = df_inspect587[df_inspect587['facilitytype'] == 'Restaurant']\n",
    "df_inspect587.count()\n"
   ]
  },
  {
   "cell_type": "code",
   "execution_count": 61,
   "metadata": {},
   "outputs": [
    {
     "data": {
      "text/plain": [
       "name             18\n",
       "zip              18\n",
       "violationtype    18\n",
       "dtype: int64"
      ]
     },
     "execution_count": 61,
     "metadata": {},
     "output_type": "execute_result"
    }
   ],
   "source": [
    "df_restViol587 = df_restInViol[df_restInViol['zip'] == '27587']\n",
    "df_restViol587.count()\n"
   ]
  },
  {
   "cell_type": "code",
   "execution_count": 62,
   "metadata": {},
   "outputs": [
    {
     "data": {
      "text/plain": [
       "3.7578288100208765"
      ]
     },
     "execution_count": 62,
     "metadata": {},
     "output_type": "execute_result"
    }
   ],
   "source": [
    "df_rate587 = (18/479)*100\n",
    "df_rate587"
   ]
  },
  {
   "cell_type": "markdown",
   "metadata": {},
   "source": [
    "<font color=\"#bfbfbf\">\n",
    "    \n",
    "#### postal code 27597\n",
    "</font>"
   ]
  },
  {
   "cell_type": "code",
   "execution_count": 63,
   "metadata": {},
   "outputs": [
    {
     "data": {
      "text/plain": [
       "name            159\n",
       "postalcode      159\n",
       "facilitytype    159\n",
       "dtype: int64"
      ]
     },
     "execution_count": 63,
     "metadata": {},
     "output_type": "execute_result"
    }
   ],
   "source": [
    "df_inspect597 = df_inspect[df_inspect['postalcode'] == '27597']\n",
    "df_inspect597 = df_inspect597[['name','postalcode','facilitytype']]\n",
    "df_inspect597 = df_inspect597[df_inspect597['facilitytype'] == 'Restaurant']\n",
    "df_inspect597.count()\n"
   ]
  },
  {
   "cell_type": "code",
   "execution_count": 64,
   "metadata": {},
   "outputs": [
    {
     "data": {
      "text/plain": [
       "name             3\n",
       "zip              3\n",
       "violationtype    3\n",
       "dtype: int64"
      ]
     },
     "execution_count": 64,
     "metadata": {},
     "output_type": "execute_result"
    }
   ],
   "source": [
    "df_restViol597 = df_restInViol[df_restInViol['zip'] == '27597']\n",
    "df_restViol597.count()\n"
   ]
  },
  {
   "cell_type": "code",
   "execution_count": 65,
   "metadata": {},
   "outputs": [
    {
     "data": {
      "text/plain": [
       "1.8867924528301887"
      ]
     },
     "execution_count": 65,
     "metadata": {},
     "output_type": "execute_result"
    }
   ],
   "source": [
    "df_rate597 = (3/159)*100\n",
    "df_rate597"
   ]
  },
  {
   "cell_type": "markdown",
   "metadata": {},
   "source": [
    "<font color=\"#bfbfbf\">\n",
    "    \n",
    "#### postal code 27601\n",
    "</font>"
   ]
  },
  {
   "cell_type": "code",
   "execution_count": 66,
   "metadata": {},
   "outputs": [
    {
     "data": {
      "text/plain": [
       "name            409\n",
       "postalcode      409\n",
       "facilitytype    409\n",
       "dtype: int64"
      ]
     },
     "execution_count": 66,
     "metadata": {},
     "output_type": "execute_result"
    }
   ],
   "source": [
    "df_inspect601 = df_inspect[df_inspect['postalcode'] == '27601']\n",
    "df_inspect601 = df_inspect601[['name','postalcode','facilitytype']]\n",
    "df_inspect601 = df_inspect601[df_inspect601['facilitytype'] == 'Restaurant']\n",
    "df_inspect601.count()\n"
   ]
  },
  {
   "cell_type": "code",
   "execution_count": 67,
   "metadata": {},
   "outputs": [
    {
     "data": {
      "text/plain": [
       "name             5\n",
       "zip              5\n",
       "violationtype    5\n",
       "dtype: int64"
      ]
     },
     "execution_count": 67,
     "metadata": {},
     "output_type": "execute_result"
    }
   ],
   "source": [
    "df_restViol601 = df_restInViol[df_restInViol['zip'] == '27601']\n",
    "df_restViol601.count()\n"
   ]
  },
  {
   "cell_type": "code",
   "execution_count": 68,
   "metadata": {},
   "outputs": [
    {
     "data": {
      "text/plain": [
       "1.2224938875305624"
      ]
     },
     "execution_count": 68,
     "metadata": {},
     "output_type": "execute_result"
    }
   ],
   "source": [
    "df_rate601 = (5/409)*100\n",
    "df_rate601"
   ]
  },
  {
   "cell_type": "markdown",
   "metadata": {},
   "source": [
    "<font color=\"#bfbfbf\">\n",
    "    \n",
    "#### postal code 27603\n",
    "</font>"
   ]
  },
  {
   "cell_type": "code",
   "execution_count": 69,
   "metadata": {},
   "outputs": [
    {
     "data": {
      "text/plain": [
       "name            400\n",
       "postalcode      400\n",
       "facilitytype    400\n",
       "dtype: int64"
      ]
     },
     "execution_count": 69,
     "metadata": {},
     "output_type": "execute_result"
    }
   ],
   "source": [
    "df_inspect603 = df_inspect[df_inspect['postalcode'] == '27603']\n",
    "df_inspect603 = df_inspect603[['name','postalcode','facilitytype']]\n",
    "df_inspect603 = df_inspect603[df_inspect603['facilitytype'] == 'Restaurant']\n",
    "df_inspect603.count()\n"
   ]
  },
  {
   "cell_type": "code",
   "execution_count": 70,
   "metadata": {},
   "outputs": [
    {
     "data": {
      "text/plain": [
       "name             11\n",
       "zip              11\n",
       "violationtype    11\n",
       "dtype: int64"
      ]
     },
     "execution_count": 70,
     "metadata": {},
     "output_type": "execute_result"
    }
   ],
   "source": [
    "df_restViol603 = df_restInViol[df_restInViol['zip'] == '27603']\n",
    "df_restViol603.count()\n"
   ]
  },
  {
   "cell_type": "code",
   "execution_count": 71,
   "metadata": {},
   "outputs": [
    {
     "data": {
      "text/plain": [
       "2.75"
      ]
     },
     "execution_count": 71,
     "metadata": {},
     "output_type": "execute_result"
    }
   ],
   "source": [
    "df_rate603 = (11/400)*100\n",
    "df_rate603"
   ]
  },
  {
   "cell_type": "markdown",
   "metadata": {},
   "source": [
    "<font color=\"#bfbfbf\">\n",
    "    \n",
    "#### postal code 27604\n",
    "</font>"
   ]
  },
  {
   "cell_type": "code",
   "execution_count": 72,
   "metadata": {},
   "outputs": [
    {
     "data": {
      "text/plain": [
       "name            347\n",
       "postalcode      347\n",
       "facilitytype    347\n",
       "dtype: int64"
      ]
     },
     "execution_count": 72,
     "metadata": {},
     "output_type": "execute_result"
    }
   ],
   "source": [
    "df_inspect604 = df_inspect[df_inspect['postalcode'] == '27604']\n",
    "df_inspect604 = df_inspect604[['name','postalcode','facilitytype']]\n",
    "df_inspect604 = df_inspect604[df_inspect604['facilitytype'] == 'Restaurant']\n",
    "df_inspect604.count()\n"
   ]
  },
  {
   "cell_type": "code",
   "execution_count": 73,
   "metadata": {},
   "outputs": [
    {
     "data": {
      "text/plain": [
       "name             15\n",
       "zip              15\n",
       "violationtype    15\n",
       "dtype: int64"
      ]
     },
     "execution_count": 73,
     "metadata": {},
     "output_type": "execute_result"
    }
   ],
   "source": [
    "df_restViol604 = df_restInViol[df_restInViol['zip'] == '27604']\n",
    "df_restViol604.count()\n"
   ]
  },
  {
   "cell_type": "code",
   "execution_count": 74,
   "metadata": {},
   "outputs": [
    {
     "data": {
      "text/plain": [
       "4.0"
      ]
     },
     "execution_count": 74,
     "metadata": {},
     "output_type": "execute_result"
    }
   ],
   "source": [
    "df_rate604 = (15/375)*100\n",
    "df_rate604"
   ]
  },
  {
   "cell_type": "markdown",
   "metadata": {},
   "source": [
    "<font color=\"#bfbfbf\">\n",
    "    \n",
    "#### postal code 27605\n",
    "</font>"
   ]
  },
  {
   "cell_type": "code",
   "execution_count": 75,
   "metadata": {},
   "outputs": [
    {
     "data": {
      "text/plain": [
       "name            160\n",
       "postalcode      160\n",
       "facilitytype    160\n",
       "dtype: int64"
      ]
     },
     "execution_count": 75,
     "metadata": {},
     "output_type": "execute_result"
    }
   ],
   "source": [
    "df_inspect605 = df_inspect[df_inspect['postalcode'] == '27605']\n",
    "df_inspect605 = df_inspect605[['name','postalcode','facilitytype']]\n",
    "df_inspect605 = df_inspect605[df_inspect605['facilitytype'] == 'Restaurant']\n",
    "df_inspect605.count()\n"
   ]
  },
  {
   "cell_type": "code",
   "execution_count": 76,
   "metadata": {},
   "outputs": [
    {
     "data": {
      "text/plain": [
       "name             6\n",
       "zip              6\n",
       "violationtype    6\n",
       "dtype: int64"
      ]
     },
     "execution_count": 76,
     "metadata": {},
     "output_type": "execute_result"
    }
   ],
   "source": [
    "df_restViol605 = df_restInViol[df_restInViol['zip'] == '27605']\n",
    "df_restViol605.count()\n"
   ]
  },
  {
   "cell_type": "code",
   "execution_count": 77,
   "metadata": {},
   "outputs": [
    {
     "data": {
      "text/plain": [
       "3.75"
      ]
     },
     "execution_count": 77,
     "metadata": {},
     "output_type": "execute_result"
    }
   ],
   "source": [
    "df_rate605 = (6/160)*100\n",
    "df_rate605"
   ]
  },
  {
   "cell_type": "markdown",
   "metadata": {},
   "source": [
    "<font color=\"#bfbfbf\">\n",
    "    \n",
    "#### postal code 27606\n",
    "</font>"
   ]
  },
  {
   "cell_type": "code",
   "execution_count": 78,
   "metadata": {},
   "outputs": [
    {
     "data": {
      "text/plain": [
       "name            236\n",
       "postalcode      236\n",
       "facilitytype    236\n",
       "dtype: int64"
      ]
     },
     "execution_count": 78,
     "metadata": {},
     "output_type": "execute_result"
    }
   ],
   "source": [
    "df_inspect606 = df_inspect[df_inspect['postalcode'] == '27606']\n",
    "df_inspect606 = df_inspect606[['name','postalcode','facilitytype']]\n",
    "df_inspect606 = df_inspect606[df_inspect606['facilitytype'] == 'Restaurant']\n",
    "df_inspect606.count()\n"
   ]
  },
  {
   "cell_type": "code",
   "execution_count": 79,
   "metadata": {},
   "outputs": [
    {
     "data": {
      "text/plain": [
       "name             4\n",
       "zip              4\n",
       "violationtype    4\n",
       "dtype: int64"
      ]
     },
     "execution_count": 79,
     "metadata": {},
     "output_type": "execute_result"
    }
   ],
   "source": [
    "df_restViol606 = df_restInViol[df_restInViol['zip'] == '27606']\n",
    "df_restViol606.count()\n"
   ]
  },
  {
   "cell_type": "code",
   "execution_count": 80,
   "metadata": {},
   "outputs": [
    {
     "data": {
      "text/plain": [
       "1.694915254237288"
      ]
     },
     "execution_count": 80,
     "metadata": {},
     "output_type": "execute_result"
    }
   ],
   "source": [
    "df_rate606 = (4/236)*100\n",
    "df_rate606"
   ]
  },
  {
   "cell_type": "markdown",
   "metadata": {},
   "source": [
    "<font color=\"#bfbfbf\">\n",
    "    \n",
    "#### postal code 27607\n",
    "</font>"
   ]
  },
  {
   "cell_type": "code",
   "execution_count": 81,
   "metadata": {},
   "outputs": [
    {
     "data": {
      "text/plain": [
       "name            356\n",
       "postalcode      356\n",
       "facilitytype    356\n",
       "dtype: int64"
      ]
     },
     "execution_count": 81,
     "metadata": {},
     "output_type": "execute_result"
    }
   ],
   "source": [
    "df_inspect607 = df_inspect[df_inspect['postalcode'] == '27607']\n",
    "df_inspect607 = df_inspect607[['name','postalcode','facilitytype']]\n",
    "df_inspect607 = df_inspect607[df_inspect607['facilitytype'] == 'Restaurant']\n",
    "df_inspect607.count()\n"
   ]
  },
  {
   "cell_type": "code",
   "execution_count": 82,
   "metadata": {},
   "outputs": [
    {
     "data": {
      "text/plain": [
       "name             14\n",
       "zip              14\n",
       "violationtype    14\n",
       "dtype: int64"
      ]
     },
     "execution_count": 82,
     "metadata": {},
     "output_type": "execute_result"
    }
   ],
   "source": [
    "df_restViol607 = df_restInViol[df_restInViol['zip'] == '27607']\n",
    "df_restViol607.count()\n"
   ]
  },
  {
   "cell_type": "code",
   "execution_count": 83,
   "metadata": {},
   "outputs": [
    {
     "data": {
      "text/plain": [
       "3.932584269662921"
      ]
     },
     "execution_count": 83,
     "metadata": {},
     "output_type": "execute_result"
    }
   ],
   "source": [
    "df_rate607 = (14/356)*100\n",
    "df_rate607"
   ]
  },
  {
   "cell_type": "markdown",
   "metadata": {},
   "source": [
    "<font color=\"#bfbfbf\">\n",
    "    \n",
    "#### postal code 27608\n",
    "</font>"
   ]
  },
  {
   "cell_type": "code",
   "execution_count": 84,
   "metadata": {},
   "outputs": [
    {
     "data": {
      "text/plain": [
       "name            59\n",
       "postalcode      59\n",
       "facilitytype    59\n",
       "dtype: int64"
      ]
     },
     "execution_count": 84,
     "metadata": {},
     "output_type": "execute_result"
    }
   ],
   "source": [
    "df_inspect608 = df_inspect[df_inspect['postalcode'] == '27608']\n",
    "df_inspect608 = df_inspect608[['name','postalcode','facilitytype']]\n",
    "df_inspect608 = df_inspect608[df_inspect608['facilitytype'] == 'Restaurant']\n",
    "df_inspect608.count()\n"
   ]
  },
  {
   "cell_type": "code",
   "execution_count": 85,
   "metadata": {},
   "outputs": [
    {
     "data": {
      "text/plain": [
       "name             1\n",
       "zip              1\n",
       "violationtype    1\n",
       "dtype: int64"
      ]
     },
     "execution_count": 85,
     "metadata": {},
     "output_type": "execute_result"
    }
   ],
   "source": [
    "df_restViol608 = df_restInViol[df_restInViol['zip'] == '27608']\n",
    "df_restViol608.count()\n"
   ]
  },
  {
   "cell_type": "code",
   "execution_count": 86,
   "metadata": {},
   "outputs": [
    {
     "data": {
      "text/plain": [
       "1.694915254237288"
      ]
     },
     "execution_count": 86,
     "metadata": {},
     "output_type": "execute_result"
    }
   ],
   "source": [
    "df_rate608 = (1/59)*100\n",
    "df_rate608"
   ]
  },
  {
   "cell_type": "markdown",
   "metadata": {},
   "source": [
    "<font color=\"#bfbfbf\">\n",
    "    \n",
    "#### postal code 27609\n",
    "</font>"
   ]
  },
  {
   "cell_type": "code",
   "execution_count": 87,
   "metadata": {},
   "outputs": [
    {
     "data": {
      "text/plain": [
       "name            495\n",
       "postalcode      495\n",
       "facilitytype    495\n",
       "dtype: int64"
      ]
     },
     "execution_count": 87,
     "metadata": {},
     "output_type": "execute_result"
    }
   ],
   "source": [
    "df_inspect609 = df_inspect[df_inspect['postalcode'] == '27609']\n",
    "df_inspect609 = df_inspect609[['name','postalcode','facilitytype']]\n",
    "df_inspect609 = df_inspect609[df_inspect609['facilitytype'] == 'Restaurant']\n",
    "df_inspect609.count()\n"
   ]
  },
  {
   "cell_type": "code",
   "execution_count": 88,
   "metadata": {},
   "outputs": [
    {
     "data": {
      "text/plain": [
       "name             17\n",
       "zip              17\n",
       "violationtype    17\n",
       "dtype: int64"
      ]
     },
     "execution_count": 88,
     "metadata": {},
     "output_type": "execute_result"
    }
   ],
   "source": [
    "df_restViol609 = df_restInViol[df_restInViol['zip'] == '27609']\n",
    "df_restViol609.count()\n"
   ]
  },
  {
   "cell_type": "code",
   "execution_count": 89,
   "metadata": {},
   "outputs": [
    {
     "data": {
      "text/plain": [
       "3.4343434343434343"
      ]
     },
     "execution_count": 89,
     "metadata": {},
     "output_type": "execute_result"
    }
   ],
   "source": [
    "df_rate609 = (17/495)*100\n",
    "df_rate609"
   ]
  },
  {
   "cell_type": "markdown",
   "metadata": {},
   "source": [
    "<font color=\"#bfbfbf\">\n",
    "    \n",
    "#### postal code 27610\n",
    "</font>"
   ]
  },
  {
   "cell_type": "code",
   "execution_count": 90,
   "metadata": {},
   "outputs": [
    {
     "data": {
      "text/plain": [
       "name            301\n",
       "postalcode      301\n",
       "facilitytype    301\n",
       "dtype: int64"
      ]
     },
     "execution_count": 90,
     "metadata": {},
     "output_type": "execute_result"
    }
   ],
   "source": [
    "df_inspect610 = df_inspect[df_inspect['postalcode'] == '27610']\n",
    "df_inspect610 = df_inspect610[['name','postalcode','facilitytype']]\n",
    "df_inspect610 = df_inspect610[df_inspect610['facilitytype'] == 'Restaurant']\n",
    "df_inspect610.count()\n"
   ]
  },
  {
   "cell_type": "code",
   "execution_count": 91,
   "metadata": {},
   "outputs": [
    {
     "data": {
      "text/plain": [
       "name             17\n",
       "zip              17\n",
       "violationtype    17\n",
       "dtype: int64"
      ]
     },
     "execution_count": 91,
     "metadata": {},
     "output_type": "execute_result"
    }
   ],
   "source": [
    "df_restViol610 = df_restInViol[df_restInViol['zip'] == '27610']\n",
    "df_restViol610.count()\n"
   ]
  },
  {
   "cell_type": "code",
   "execution_count": 92,
   "metadata": {},
   "outputs": [
    {
     "data": {
      "text/plain": [
       "5.647840531561462"
      ]
     },
     "execution_count": 92,
     "metadata": {},
     "output_type": "execute_result"
    }
   ],
   "source": [
    "df_rate610 = (17/301)*100\n",
    "df_rate610"
   ]
  },
  {
   "cell_type": "markdown",
   "metadata": {},
   "source": [
    "<font color=\"#bfbfbf\">\n",
    "    \n",
    "#### postal code 27612\n",
    "</font>"
   ]
  },
  {
   "cell_type": "code",
   "execution_count": 93,
   "metadata": {},
   "outputs": [
    {
     "data": {
      "text/plain": [
       "name            309\n",
       "postalcode      309\n",
       "facilitytype    309\n",
       "dtype: int64"
      ]
     },
     "execution_count": 93,
     "metadata": {},
     "output_type": "execute_result"
    }
   ],
   "source": [
    "df_inspect612 = df_inspect[df_inspect['postalcode'] == '27612']\n",
    "df_inspect612 = df_inspect612[['name','postalcode','facilitytype']]\n",
    "df_inspect612 = df_inspect612[df_inspect612['facilitytype'] == 'Restaurant']\n",
    "df_inspect612.count()\n"
   ]
  },
  {
   "cell_type": "code",
   "execution_count": 94,
   "metadata": {},
   "outputs": [
    {
     "data": {
      "text/plain": [
       "name             19\n",
       "zip              19\n",
       "violationtype    19\n",
       "dtype: int64"
      ]
     },
     "execution_count": 94,
     "metadata": {},
     "output_type": "execute_result"
    }
   ],
   "source": [
    "df_restViol612 = df_restInViol[df_restInViol['zip'] == '27612']\n",
    "df_restViol612.count()\n"
   ]
  },
  {
   "cell_type": "code",
   "execution_count": 95,
   "metadata": {},
   "outputs": [
    {
     "data": {
      "text/plain": [
       "6.148867313915858"
      ]
     },
     "execution_count": 95,
     "metadata": {},
     "output_type": "execute_result"
    }
   ],
   "source": [
    "df_rate612 = (19/309)*100\n",
    "df_rate612"
   ]
  },
  {
   "cell_type": "markdown",
   "metadata": {},
   "source": [
    "<font color=\"#bfbfbf\">\n",
    "    \n",
    "#### postal code 27613\n",
    "</font>"
   ]
  },
  {
   "cell_type": "code",
   "execution_count": 96,
   "metadata": {},
   "outputs": [
    {
     "data": {
      "text/plain": [
       "name            187\n",
       "postalcode      187\n",
       "facilitytype    187\n",
       "dtype: int64"
      ]
     },
     "execution_count": 96,
     "metadata": {},
     "output_type": "execute_result"
    }
   ],
   "source": [
    "df_inspect613 = df_inspect[df_inspect['postalcode'] == '27613']\n",
    "df_inspect613 = df_inspect613[['name','postalcode','facilitytype']]\n",
    "df_inspect613 = df_inspect613[df_inspect613['facilitytype'] == 'Restaurant']\n",
    "df_inspect613.count()\n"
   ]
  },
  {
   "cell_type": "code",
   "execution_count": 97,
   "metadata": {},
   "outputs": [
    {
     "data": {
      "text/plain": [
       "name             4\n",
       "zip              4\n",
       "violationtype    4\n",
       "dtype: int64"
      ]
     },
     "execution_count": 97,
     "metadata": {},
     "output_type": "execute_result"
    }
   ],
   "source": [
    "df_restViol613 = df_restInViol[df_restInViol['zip'] == '27613']\n",
    "df_restViol613.count()\n"
   ]
  },
  {
   "cell_type": "code",
   "execution_count": 98,
   "metadata": {},
   "outputs": [
    {
     "data": {
      "text/plain": [
       "2.13903743315508"
      ]
     },
     "execution_count": 98,
     "metadata": {},
     "output_type": "execute_result"
    }
   ],
   "source": [
    "df_rate613 = (4/187)*100\n",
    "df_rate613"
   ]
  },
  {
   "cell_type": "markdown",
   "metadata": {},
   "source": [
    "<font color=\"#bfbfbf\">\n",
    "    \n",
    "#### postal code 27614\n",
    "</font>"
   ]
  },
  {
   "cell_type": "code",
   "execution_count": 99,
   "metadata": {},
   "outputs": [
    {
     "data": {
      "text/plain": [
       "name            251\n",
       "postalcode      251\n",
       "facilitytype    251\n",
       "dtype: int64"
      ]
     },
     "execution_count": 99,
     "metadata": {},
     "output_type": "execute_result"
    }
   ],
   "source": [
    "df_inspect614 = df_inspect[df_inspect['postalcode'] == '27614']\n",
    "df_inspect614 = df_inspect614[['name','postalcode','facilitytype']]\n",
    "df_inspect614 = df_inspect614[df_inspect614['facilitytype'] == 'Restaurant']\n",
    "df_inspect614.count()\n"
   ]
  },
  {
   "cell_type": "code",
   "execution_count": 100,
   "metadata": {},
   "outputs": [
    {
     "data": {
      "text/plain": [
       "name             6\n",
       "zip              6\n",
       "violationtype    6\n",
       "dtype: int64"
      ]
     },
     "execution_count": 100,
     "metadata": {},
     "output_type": "execute_result"
    }
   ],
   "source": [
    "df_restViol614 = df_restInViol[df_restInViol['zip'] == '27614']\n",
    "df_restViol614.count()\n"
   ]
  },
  {
   "cell_type": "code",
   "execution_count": 101,
   "metadata": {},
   "outputs": [
    {
     "data": {
      "text/plain": [
       "2.3904382470119523"
      ]
     },
     "execution_count": 101,
     "metadata": {},
     "output_type": "execute_result"
    }
   ],
   "source": [
    "df_rate614 = (6/251)*100\n",
    "df_rate614"
   ]
  },
  {
   "cell_type": "markdown",
   "metadata": {},
   "source": [
    "<font color=\"#bfbfbf\">\n",
    "    \n",
    "#### postal code 27615\n",
    "</font>"
   ]
  },
  {
   "cell_type": "code",
   "execution_count": 102,
   "metadata": {},
   "outputs": [
    {
     "data": {
      "text/plain": [
       "name            370\n",
       "postalcode      370\n",
       "facilitytype    370\n",
       "dtype: int64"
      ]
     },
     "execution_count": 102,
     "metadata": {},
     "output_type": "execute_result"
    }
   ],
   "source": [
    "df_inspect615 = df_inspect[df_inspect['postalcode'] == '27615']\n",
    "df_inspect615 = df_inspect615[['name','postalcode','facilitytype']]\n",
    "df_inspect615 = df_inspect615[df_inspect615['facilitytype'] == 'Restaurant']\n",
    "df_inspect615.count()\n"
   ]
  },
  {
   "cell_type": "code",
   "execution_count": 103,
   "metadata": {},
   "outputs": [
    {
     "data": {
      "text/plain": [
       "name             11\n",
       "zip              11\n",
       "violationtype    11\n",
       "dtype: int64"
      ]
     },
     "execution_count": 103,
     "metadata": {},
     "output_type": "execute_result"
    }
   ],
   "source": [
    "df_restViol615 = df_restInViol[df_restInViol['zip'] == '27615']\n",
    "df_restViol615.count()\n"
   ]
  },
  {
   "cell_type": "code",
   "execution_count": 104,
   "metadata": {},
   "outputs": [
    {
     "data": {
      "text/plain": [
       "2.9729729729729732"
      ]
     },
     "execution_count": 104,
     "metadata": {},
     "output_type": "execute_result"
    }
   ],
   "source": [
    "df_rate615 = (11/370)*100\n",
    "df_rate615"
   ]
  },
  {
   "cell_type": "markdown",
   "metadata": {},
   "source": [
    "<font color=\"#bfbfbf\">\n",
    "    \n",
    "#### postal code 27616\n",
    "</font>"
   ]
  },
  {
   "cell_type": "code",
   "execution_count": 105,
   "metadata": {},
   "outputs": [
    {
     "data": {
      "text/plain": [
       "name            344\n",
       "postalcode      344\n",
       "facilitytype    344\n",
       "dtype: int64"
      ]
     },
     "execution_count": 105,
     "metadata": {},
     "output_type": "execute_result"
    }
   ],
   "source": [
    "df_inspect616 = df_inspect[df_inspect['postalcode'] == '27616']\n",
    "df_inspect616 = df_inspect616[['name','postalcode','facilitytype']]\n",
    "df_inspect616 = df_inspect616[df_inspect616['facilitytype'] == 'Restaurant']\n",
    "df_inspect616.count()\n"
   ]
  },
  {
   "cell_type": "code",
   "execution_count": 106,
   "metadata": {},
   "outputs": [
    {
     "data": {
      "text/plain": [
       "name             12\n",
       "zip              12\n",
       "violationtype    12\n",
       "dtype: int64"
      ]
     },
     "execution_count": 106,
     "metadata": {},
     "output_type": "execute_result"
    }
   ],
   "source": [
    "df_restViol616 = df_restInViol[df_restInViol['zip'] == '27616']\n",
    "df_restViol616.count()\n"
   ]
  },
  {
   "cell_type": "code",
   "execution_count": 107,
   "metadata": {},
   "outputs": [
    {
     "data": {
      "text/plain": [
       "3.488372093023256"
      ]
     },
     "execution_count": 107,
     "metadata": {},
     "output_type": "execute_result"
    }
   ],
   "source": [
    "df_rate616 = (12/344)*100\n",
    "df_rate616"
   ]
  },
  {
   "cell_type": "markdown",
   "metadata": {},
   "source": [
    "<font color=\"#bfbfbf\">\n",
    "    \n",
    "#### postal code 27617\n",
    "</font>"
   ]
  },
  {
   "cell_type": "code",
   "execution_count": 108,
   "metadata": {},
   "outputs": [
    {
     "data": {
      "text/plain": [
       "name            329\n",
       "postalcode      329\n",
       "facilitytype    329\n",
       "dtype: int64"
      ]
     },
     "execution_count": 108,
     "metadata": {},
     "output_type": "execute_result"
    }
   ],
   "source": [
    "df_inspect617 = df_inspect[df_inspect['postalcode'] == '27617']\n",
    "df_inspect617 = df_inspect617[['name','postalcode','facilitytype']]\n",
    "df_inspect617 = df_inspect617[df_inspect617['facilitytype'] == 'Restaurant']\n",
    "df_inspect617.count()\n"
   ]
  },
  {
   "cell_type": "code",
   "execution_count": 109,
   "metadata": {},
   "outputs": [
    {
     "data": {
      "text/plain": [
       "name             2\n",
       "zip              2\n",
       "violationtype    2\n",
       "dtype: int64"
      ]
     },
     "execution_count": 109,
     "metadata": {},
     "output_type": "execute_result"
    }
   ],
   "source": [
    "df_restViol617 = df_restInViol[df_restInViol['zip'] == '27617']\n",
    "df_restViol617.count()\n"
   ]
  },
  {
   "cell_type": "code",
   "execution_count": 110,
   "metadata": {},
   "outputs": [
    {
     "data": {
      "text/plain": [
       "0.60790273556231"
      ]
     },
     "execution_count": 110,
     "metadata": {},
     "output_type": "execute_result"
    }
   ],
   "source": [
    "df_rate617 = (2/329)*100\n",
    "df_rate617"
   ]
  },
  {
   "cell_type": "markdown",
   "metadata": {},
   "source": [
    "# DATA ANALYSIS\n",
    "\n",
    "<font color=#949494>\n",
    "\n",
    "### step five: create a dataframe from new data\n",
    "</font>\n",
    "\n",
    "Now that we've gathered the ratio percentage of restaurants with repeat health violations for locations where the parameters apply, let's create a new dataframe to compile the collected data."
   ]
  },
  {
   "cell_type": "code",
   "execution_count": 111,
   "metadata": {},
   "outputs": [],
   "source": [
    "completeRatios = {'zip': ['27502', '27511', '27513', '27518', '27519', '27526', '27529', '27539', '27540', '27545', '27560', '27571', '27587', '27597', '27601', '27603', '27604', '27605', '27606', '27607', '27608', '27609', '27610', '27612', '27613', '27614', '27615', '27616', '27617'],\n",
    "                  'percentage': [df_rate502, df_rate511, df_rate513, df_rate518, df_rate519, df_rate526, df_rate529, df_rate539, df_rate540, df_rate545, df_rate560, df_rate571, df_rate587, df_rate597, df_rate601, df_rate603, df_rate604, df_rate605, df_rate606, df_rate607, df_rate608, df_rate609, df_rate610, df_rate612, df_rate613, df_rate614, df_rate615, df_rate616, df_rate617]}\n",
    "df_completeRatios = pd.DataFrame(data=completeRatios)\n"
   ]
  },
  {
   "cell_type": "code",
   "execution_count": 112,
   "metadata": {},
   "outputs": [],
   "source": [
    "df_complete = pd.merge(df_zipInViol, df_completeRatios, on='zip')\n"
   ]
  },
  {
   "cell_type": "markdown",
   "metadata": {},
   "source": [
    "# DATA CLEANING\n",
    "<font color=#949494>\n",
    "\n",
    "### part two: cleaning the new data\n",
    "</font>\n",
    "\n",
    "Now that our new dataframe has been synthesized, we should clean up the data. Here, I dropped zip code duplicates, renamed column names, and subsequently decided to only include columns that pertain to percentages."
   ]
  },
  {
   "cell_type": "code",
   "execution_count": 113,
   "metadata": {},
   "outputs": [],
   "source": [
    "df_complete.drop_duplicates(subset ='zip', keep ='first', inplace = True)\n"
   ]
  },
  {
   "cell_type": "code",
   "execution_count": 114,
   "metadata": {},
   "outputs": [],
   "source": [
    "df_complete = df_complete[['zip','percent_damilies_below_poverty_line','percent_snap_benefits','percent_supplemental_security_income','percent_nonwhite','percentage']]\n"
   ]
  },
  {
   "cell_type": "code",
   "execution_count": 115,
   "metadata": {},
   "outputs": [
    {
     "data": {
      "text/html": [
       "<div>\n",
       "<style scoped>\n",
       "    .dataframe tbody tr th:only-of-type {\n",
       "        vertical-align: middle;\n",
       "    }\n",
       "\n",
       "    .dataframe tbody tr th {\n",
       "        vertical-align: top;\n",
       "    }\n",
       "\n",
       "    .dataframe thead th {\n",
       "        text-align: right;\n",
       "    }\n",
       "</style>\n",
       "<table border=\"1\" class=\"dataframe\">\n",
       "  <thead>\n",
       "    <tr style=\"text-align: right;\">\n",
       "      <th></th>\n",
       "      <th>zipcode</th>\n",
       "      <th>% of families below poverty line</th>\n",
       "      <th>% snap benefits</th>\n",
       "      <th>% security income</th>\n",
       "      <th>% nonwhite</th>\n",
       "      <th>% repeated violations</th>\n",
       "    </tr>\n",
       "  </thead>\n",
       "  <tbody>\n",
       "    <tr>\n",
       "      <th>0</th>\n",
       "      <td>27502</td>\n",
       "      <td>3.4</td>\n",
       "      <td>2.4</td>\n",
       "      <td>0.8</td>\n",
       "      <td>18.9</td>\n",
       "      <td>1.136364</td>\n",
       "    </tr>\n",
       "    <tr>\n",
       "      <th>1</th>\n",
       "      <td>27511</td>\n",
       "      <td>9.6</td>\n",
       "      <td>4.5</td>\n",
       "      <td>2.2</td>\n",
       "      <td>24.8</td>\n",
       "      <td>3.549383</td>\n",
       "    </tr>\n",
       "    <tr>\n",
       "      <th>2</th>\n",
       "      <td>27513</td>\n",
       "      <td>3.8</td>\n",
       "      <td>2.4</td>\n",
       "      <td>1.5</td>\n",
       "      <td>27.8</td>\n",
       "      <td>3.720930</td>\n",
       "    </tr>\n",
       "    <tr>\n",
       "      <th>3</th>\n",
       "      <td>27518</td>\n",
       "      <td>5.5</td>\n",
       "      <td>1.0</td>\n",
       "      <td>1.7</td>\n",
       "      <td>19.9</td>\n",
       "      <td>0.375940</td>\n",
       "    </tr>\n",
       "    <tr>\n",
       "      <th>4</th>\n",
       "      <td>27519</td>\n",
       "      <td>3.2</td>\n",
       "      <td>2.3</td>\n",
       "      <td>2.3</td>\n",
       "      <td>35.2</td>\n",
       "      <td>1.485149</td>\n",
       "    </tr>\n",
       "    <tr>\n",
       "      <th>5</th>\n",
       "      <td>27526</td>\n",
       "      <td>8.4</td>\n",
       "      <td>8.3</td>\n",
       "      <td>3.9</td>\n",
       "      <td>22.5</td>\n",
       "      <td>1.086957</td>\n",
       "    </tr>\n",
       "    <tr>\n",
       "      <th>6</th>\n",
       "      <td>27529</td>\n",
       "      <td>9.5</td>\n",
       "      <td>7.6</td>\n",
       "      <td>4.8</td>\n",
       "      <td>33.9</td>\n",
       "      <td>7.317073</td>\n",
       "    </tr>\n",
       "    <tr>\n",
       "      <th>7</th>\n",
       "      <td>27539</td>\n",
       "      <td>2.2</td>\n",
       "      <td>4.1</td>\n",
       "      <td>1.4</td>\n",
       "      <td>19.0</td>\n",
       "      <td>1.851852</td>\n",
       "    </tr>\n",
       "    <tr>\n",
       "      <th>8</th>\n",
       "      <td>27540</td>\n",
       "      <td>3.0</td>\n",
       "      <td>4.5</td>\n",
       "      <td>2.4</td>\n",
       "      <td>19.7</td>\n",
       "      <td>0.775194</td>\n",
       "    </tr>\n",
       "    <tr>\n",
       "      <th>9</th>\n",
       "      <td>27545</td>\n",
       "      <td>6.1</td>\n",
       "      <td>6.1</td>\n",
       "      <td>1.8</td>\n",
       "      <td>44.4</td>\n",
       "      <td>1.214575</td>\n",
       "    </tr>\n",
       "    <tr>\n",
       "      <th>10</th>\n",
       "      <td>27560</td>\n",
       "      <td>3.6</td>\n",
       "      <td>3.9</td>\n",
       "      <td>1.1</td>\n",
       "      <td>53.3</td>\n",
       "      <td>2.339181</td>\n",
       "    </tr>\n",
       "    <tr>\n",
       "      <th>11</th>\n",
       "      <td>27571</td>\n",
       "      <td>8.2</td>\n",
       "      <td>12.6</td>\n",
       "      <td>3.7</td>\n",
       "      <td>17.4</td>\n",
       "      <td>4.166667</td>\n",
       "    </tr>\n",
       "    <tr>\n",
       "      <th>12</th>\n",
       "      <td>27587</td>\n",
       "      <td>5.5</td>\n",
       "      <td>6.4</td>\n",
       "      <td>3.2</td>\n",
       "      <td>18.0</td>\n",
       "      <td>3.757829</td>\n",
       "    </tr>\n",
       "    <tr>\n",
       "      <th>13</th>\n",
       "      <td>27597</td>\n",
       "      <td>11.3</td>\n",
       "      <td>15.5</td>\n",
       "      <td>7.5</td>\n",
       "      <td>26.3</td>\n",
       "      <td>1.886792</td>\n",
       "    </tr>\n",
       "    <tr>\n",
       "      <th>14</th>\n",
       "      <td>27601</td>\n",
       "      <td>35.9</td>\n",
       "      <td>33.5</td>\n",
       "      <td>10.8</td>\n",
       "      <td>69.9</td>\n",
       "      <td>1.222494</td>\n",
       "    </tr>\n",
       "    <tr>\n",
       "      <th>15</th>\n",
       "      <td>27603</td>\n",
       "      <td>12.6</td>\n",
       "      <td>10.4</td>\n",
       "      <td>3.8</td>\n",
       "      <td>25.6</td>\n",
       "      <td>2.750000</td>\n",
       "    </tr>\n",
       "    <tr>\n",
       "      <th>16</th>\n",
       "      <td>27604</td>\n",
       "      <td>14.4</td>\n",
       "      <td>10.2</td>\n",
       "      <td>3.8</td>\n",
       "      <td>41.3</td>\n",
       "      <td>4.000000</td>\n",
       "    </tr>\n",
       "    <tr>\n",
       "      <th>17</th>\n",
       "      <td>27605</td>\n",
       "      <td>4.1</td>\n",
       "      <td>6.5</td>\n",
       "      <td>4.0</td>\n",
       "      <td>14.8</td>\n",
       "      <td>3.750000</td>\n",
       "    </tr>\n",
       "    <tr>\n",
       "      <th>18</th>\n",
       "      <td>27606</td>\n",
       "      <td>13.8</td>\n",
       "      <td>7.6</td>\n",
       "      <td>2.0</td>\n",
       "      <td>31.8</td>\n",
       "      <td>1.694915</td>\n",
       "    </tr>\n",
       "    <tr>\n",
       "      <th>19</th>\n",
       "      <td>27607</td>\n",
       "      <td>12.8</td>\n",
       "      <td>8.8</td>\n",
       "      <td>3.9</td>\n",
       "      <td>25.0</td>\n",
       "      <td>3.932584</td>\n",
       "    </tr>\n",
       "    <tr>\n",
       "      <th>20</th>\n",
       "      <td>27608</td>\n",
       "      <td>5.5</td>\n",
       "      <td>2.6</td>\n",
       "      <td>2.7</td>\n",
       "      <td>8.7</td>\n",
       "      <td>1.694915</td>\n",
       "    </tr>\n",
       "    <tr>\n",
       "      <th>21</th>\n",
       "      <td>27609</td>\n",
       "      <td>8.9</td>\n",
       "      <td>9.0</td>\n",
       "      <td>1.6</td>\n",
       "      <td>27.2</td>\n",
       "      <td>3.434343</td>\n",
       "    </tr>\n",
       "    <tr>\n",
       "      <th>22</th>\n",
       "      <td>27610</td>\n",
       "      <td>19.2</td>\n",
       "      <td>16.9</td>\n",
       "      <td>5.9</td>\n",
       "      <td>72.7</td>\n",
       "      <td>5.647841</td>\n",
       "    </tr>\n",
       "    <tr>\n",
       "      <th>23</th>\n",
       "      <td>27612</td>\n",
       "      <td>5.5</td>\n",
       "      <td>4.8</td>\n",
       "      <td>1.3</td>\n",
       "      <td>23.2</td>\n",
       "      <td>6.148867</td>\n",
       "    </tr>\n",
       "    <tr>\n",
       "      <th>24</th>\n",
       "      <td>27613</td>\n",
       "      <td>4.7</td>\n",
       "      <td>4.2</td>\n",
       "      <td>1.7</td>\n",
       "      <td>22.6</td>\n",
       "      <td>2.139037</td>\n",
       "    </tr>\n",
       "    <tr>\n",
       "      <th>25</th>\n",
       "      <td>27614</td>\n",
       "      <td>3.7</td>\n",
       "      <td>3.3</td>\n",
       "      <td>1.2</td>\n",
       "      <td>16.6</td>\n",
       "      <td>2.390438</td>\n",
       "    </tr>\n",
       "    <tr>\n",
       "      <th>26</th>\n",
       "      <td>27615</td>\n",
       "      <td>4.2</td>\n",
       "      <td>4.2</td>\n",
       "      <td>1.5</td>\n",
       "      <td>19.6</td>\n",
       "      <td>2.972973</td>\n",
       "    </tr>\n",
       "    <tr>\n",
       "      <th>27</th>\n",
       "      <td>27616</td>\n",
       "      <td>11.7</td>\n",
       "      <td>10.6</td>\n",
       "      <td>4.6</td>\n",
       "      <td>52.6</td>\n",
       "      <td>3.488372</td>\n",
       "    </tr>\n",
       "    <tr>\n",
       "      <th>28</th>\n",
       "      <td>27617</td>\n",
       "      <td>2.0</td>\n",
       "      <td>1.3</td>\n",
       "      <td>0.5</td>\n",
       "      <td>30.4</td>\n",
       "      <td>0.607903</td>\n",
       "    </tr>\n",
       "  </tbody>\n",
       "</table>\n",
       "</div>"
      ],
      "text/plain": [
       "   zipcode  % of families below poverty line  % snap benefits  \\\n",
       "0    27502                               3.4              2.4   \n",
       "1    27511                               9.6              4.5   \n",
       "2    27513                               3.8              2.4   \n",
       "3    27518                               5.5              1.0   \n",
       "4    27519                               3.2              2.3   \n",
       "5    27526                               8.4              8.3   \n",
       "6    27529                               9.5              7.6   \n",
       "7    27539                               2.2              4.1   \n",
       "8    27540                               3.0              4.5   \n",
       "9    27545                               6.1              6.1   \n",
       "10   27560                               3.6              3.9   \n",
       "11   27571                               8.2             12.6   \n",
       "12   27587                               5.5              6.4   \n",
       "13   27597                              11.3             15.5   \n",
       "14   27601                              35.9             33.5   \n",
       "15   27603                              12.6             10.4   \n",
       "16   27604                              14.4             10.2   \n",
       "17   27605                               4.1              6.5   \n",
       "18   27606                              13.8              7.6   \n",
       "19   27607                              12.8              8.8   \n",
       "20   27608                               5.5              2.6   \n",
       "21   27609                               8.9              9.0   \n",
       "22   27610                              19.2             16.9   \n",
       "23   27612                               5.5              4.8   \n",
       "24   27613                               4.7              4.2   \n",
       "25   27614                               3.7              3.3   \n",
       "26   27615                               4.2              4.2   \n",
       "27   27616                              11.7             10.6   \n",
       "28   27617                               2.0              1.3   \n",
       "\n",
       "    % security income  % nonwhite  % repeated violations  \n",
       "0                 0.8        18.9               1.136364  \n",
       "1                 2.2        24.8               3.549383  \n",
       "2                 1.5        27.8               3.720930  \n",
       "3                 1.7        19.9               0.375940  \n",
       "4                 2.3        35.2               1.485149  \n",
       "5                 3.9        22.5               1.086957  \n",
       "6                 4.8        33.9               7.317073  \n",
       "7                 1.4        19.0               1.851852  \n",
       "8                 2.4        19.7               0.775194  \n",
       "9                 1.8        44.4               1.214575  \n",
       "10                1.1        53.3               2.339181  \n",
       "11                3.7        17.4               4.166667  \n",
       "12                3.2        18.0               3.757829  \n",
       "13                7.5        26.3               1.886792  \n",
       "14               10.8        69.9               1.222494  \n",
       "15                3.8        25.6               2.750000  \n",
       "16                3.8        41.3               4.000000  \n",
       "17                4.0        14.8               3.750000  \n",
       "18                2.0        31.8               1.694915  \n",
       "19                3.9        25.0               3.932584  \n",
       "20                2.7         8.7               1.694915  \n",
       "21                1.6        27.2               3.434343  \n",
       "22                5.9        72.7               5.647841  \n",
       "23                1.3        23.2               6.148867  \n",
       "24                1.7        22.6               2.139037  \n",
       "25                1.2        16.6               2.390438  \n",
       "26                1.5        19.6               2.972973  \n",
       "27                4.6        52.6               3.488372  \n",
       "28                0.5        30.4               0.607903  "
      ]
     },
     "execution_count": 115,
     "metadata": {},
     "output_type": "execute_result"
    }
   ],
   "source": [
    "df_complete.columns = ['zipcode','% of families below poverty line','% snap benefits','% security income','% nonwhite','% repeated violations']\n",
    "df_complete\n"
   ]
  },
  {
   "cell_type": "markdown",
   "metadata": {},
   "source": [
    "# DATA ANALYSIS\n",
    "\n",
    "<font color=#949494>\n",
    "\n",
    "### step six: what does it all mean?\n",
    "</font>\n",
    "\n",
    "To better understand the new dataset, let's create a scatterplot matrix between `% of families below poverty line`, `% security income`, and `% repeated violations`."
   ]
  },
  {
   "cell_type": "code",
   "execution_count": 116,
   "metadata": {},
   "outputs": [
    {
     "data": {
      "image/png": "[encoded data removed]",
      "text/plain": [
       "<Figure size 576x432 with 9 Axes>"
      ]
     },
     "metadata": {
      "needs_background": "light"
     },
     "output_type": "display_data"
    }
   ],
   "source": [
    "complete = pd.plotting.scatter_matrix(df_complete[['% of families below poverty line','% security income','% repeated violations']],figsize=(8,6))\n",
    "complete = plt.gcf()\n"
   ]
  },
  {
   "cell_type": "markdown",
   "metadata": {},
   "source": [
    "Nice! Not only can we see a clear connection between `% of families below poverty line`, `% security income`, and `% repeated violations`, there also seems to be positive correlations among these variables. Most notably, there is a strong correltion between `% of families below poverty line` & `% security income`. There does seem to be one to two notable outliers among all of the scatterplots – this is due to certain percentages being higher or lower than the average, a direct result from a specific zip code's economic demographic."
   ]
  },
  {
   "cell_type": "markdown",
   "metadata": {},
   "source": [
    "# DATA ANALYSIS\n",
    "\n",
    "<font color=#949494>\n",
    "\n",
    "### step seven: can we predict a restaurant's repeated health violations percentage from their respective zip code data?\n",
    "</font>\n",
    "\n",
    "Let's look at both `% of snap benefits` and `% security income`."
   ]
  },
  {
   "cell_type": "code",
   "execution_count": 144,
   "metadata": {},
   "outputs": [],
   "source": [
    "a1,b1 = np.polyfit(df_complete['% snap benefits'],df_complete['% repeated violations'], 1)\n"
   ]
  },
  {
   "cell_type": "code",
   "execution_count": 145,
   "metadata": {},
   "outputs": [],
   "source": [
    "percentRange = np.arange(min(df_complete['% snap benefits']),\n",
    "                         max(df_complete['% snap benefits']))\n",
    "predRate = np.array(a1 * percentRange + b1)"
   ]
  },
  {
   "cell_type": "code",
   "execution_count": 152,
   "metadata": {},
   "outputs": [
    {
     "data": {
      "image/png": "[encoded data removed]",
      "text/plain": [
       "<Figure size 432x288 with 1 Axes>"
      ]
     },
     "metadata": {
      "needs_background": "light"
     },
     "output_type": "display_data"
    }
   ],
   "source": [
    "predictSnapRepeat = df_complete.plot.scatter(x='% snap benefits',\n",
    "                                              y='% repeated violations',\n",
    "                                              c = 'black')\n",
    "plt.plot(np.arange(min(df_complete['% snap benefits']),\n",
    "                   max(df_complete['% snap benefits'])),\n",
    "                   predRate, color = 'red')\n",
    "predictSnapRepeat = plt.gcf()"
   ]
  },
  {
   "cell_type": "code",
   "execution_count": 149,
   "metadata": {},
   "outputs": [],
   "source": [
    "a2,b2 = np.polyfit(df_complete['% security income'],df_complete['% repeated violations'], 1)\n"
   ]
  },
  {
   "cell_type": "code",
   "execution_count": 153,
   "metadata": {},
   "outputs": [],
   "source": [
    "securityRange = np.arange(min(df_complete['% security income']),\n",
    "                         max(df_complete['% security income']))\n",
    "securityRate = np.array(a1 * securityRange + b1)"
   ]
  },
  {
   "cell_type": "code",
   "execution_count": 154,
   "metadata": {},
   "outputs": [
    {
     "data": {
      "image/png": "[encoded data removed]",
      "text/plain": [
       "<Figure size 432x288 with 1 Axes>"
      ]
     },
     "metadata": {
      "needs_background": "light"
     },
     "output_type": "display_data"
    }
   ],
   "source": [
    "predictSecurityRepeat = df_complete.plot.scatter(x='% security income',\n",
    "                                              y='% repeated violations',\n",
    "                                              c = 'black')\n",
    "plt.plot(np.arange(min(df_complete['% security income']),\n",
    "                   max(df_complete['% security income'])),\n",
    "                   securityRate, color = 'red')\n",
    "predictSecurityRepeat = plt.gcf()"
   ]
  },
  {
   "cell_type": "markdown",
   "metadata": {},
   "source": [
    "Hmm...not quite. It looks like these models are perform poorly on the `df_complete` dataset, which means that using `% snap benefits` or `% security income` are ineffective ways to predict `% repeated violations`. This makes sense, since snap benefits and security income do not often play a role in a restaurant's overall cleanliness. However, it is still good to confirm the predictive relationship, or lackthereof in this case, between these three variables."
   ]
  },
  {
   "cell_type": "markdown",
   "metadata": {},
   "source": [
    "# ETHICS & PRIVACY\n",
    "\n",
    "The datasets provided to me have been erased of all personal information that could identify a certain person, group, or collective based in the United States. I did notice, however, that the provided zipcode dataset offered a column with `% nonwhites`. This may have skewed some data as the presence or absence of specific ethnicities could have affected the data collecting process (for example, some groups may not feel comfortable reporting their annual income). To handle this issue, I would provide a more in-depth breakdown of the ethnic groups that make up the nonwhites."
   ]
  },
  {
   "cell_type": "markdown",
   "metadata": {},
   "source": [
    "# CONCLUSION\n",
    "\n",
    "In order to determine if there is a correlation between repeat health violations and the demographic information for their respective zip codes, I cross-referenced restaurant data with their inspection history by merging two datasets. I then calcuated the ratio of restaurants with repeat health violations to the total number of inspected restaurants within a given zip code, in order to further refine my data. While I was limited to the provided datasets, I was able to find a quantifiable, positively correlated connection between variables `% of families below poverty line`, `% security income`, and `% repeated violations`. Particularly, there is a strong correlation between `% of families below poverty line` & `% security income`.\n",
    "\n",
    "For future research, we can look deeper into the various confounds that can account for this newfound correlation. Hopefully, by determining the underlying factors that affect a restaurant's repeated health violation, we can diminish the amount of strikes that each inspection can bring to certain restaurants, which can in turn improve the community's overall public health."
   ]
  },
  {
   "cell_type": "code",
   "execution_count": null,
   "metadata": {},
   "outputs": [],
   "source": []
  }
 ],
 "metadata": {
  "kernelspec": {
   "display_name": "Python 3",
   "language": "python",
   "name": "python3"
  },
  "language_info": {
   "codemirror_mode": {
    "name": "ipython",
    "version": 3
   },
   "file_extension": ".py",
   "mimetype": "text/x-python",
   "name": "python",
   "nbconvert_exporter": "python",
   "pygments_lexer": "ipython3",
   "version": "3.6.7"
  }
 },
 "nbformat": 4,
 "nbformat_minor": 2
}
